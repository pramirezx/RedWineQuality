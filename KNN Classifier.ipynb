{
 "cells": [
  {
   "cell_type": "markdown",
   "id": "203a25ec",
   "metadata": {},
   "source": [
    "## Wine Quality using KNN Classifier"
   ]
  },
  {
   "cell_type": "code",
   "execution_count": 260,
   "id": "9dbe5341",
   "metadata": {},
   "outputs": [],
   "source": [
    "# Importing the required packages and libraries \n",
    "\n",
    "from sklearn.neighbors import KNeighborsClassifier\n",
    "from sklearn.model_selection import train_test_split\n",
    "from sklearn.metrics import accuracy_score\n",
    "from sklearn.preprocessing import scale \n",
    "import matplotlib.pyplot as plt\n",
    "import seaborn as sns\n",
    "from sklearn import metrics\n",
    "import numpy as np\n",
    "import pandas as pd"
   ]
  },
  {
   "cell_type": "markdown",
   "id": "907d4288",
   "metadata": {},
   "source": [
    "#### Set up the Feature Matrix and Label Vector:"
   ]
  },
  {
   "cell_type": "code",
   "execution_count": 261,
   "id": "16f10e84",
   "metadata": {},
   "outputs": [
    {
     "data": {
      "text/html": [
       "<div>\n",
       "<style scoped>\n",
       "    .dataframe tbody tr th:only-of-type {\n",
       "        vertical-align: middle;\n",
       "    }\n",
       "\n",
       "    .dataframe tbody tr th {\n",
       "        vertical-align: top;\n",
       "    }\n",
       "\n",
       "    .dataframe thead th {\n",
       "        text-align: right;\n",
       "    }\n",
       "</style>\n",
       "<table border=\"1\" class=\"dataframe\">\n",
       "  <thead>\n",
       "    <tr style=\"text-align: right;\">\n",
       "      <th></th>\n",
       "      <th>fixed acidity</th>\n",
       "      <th>volatile acidity</th>\n",
       "      <th>citric acid</th>\n",
       "      <th>residual sugar</th>\n",
       "      <th>chlorides</th>\n",
       "      <th>free sulfur dioxide</th>\n",
       "      <th>total sulfur dioxide</th>\n",
       "      <th>density</th>\n",
       "      <th>pH</th>\n",
       "      <th>sulphates</th>\n",
       "      <th>alcohol</th>\n",
       "      <th>quality</th>\n",
       "    </tr>\n",
       "  </thead>\n",
       "  <tbody>\n",
       "    <tr>\n",
       "      <th>0</th>\n",
       "      <td>7.4</td>\n",
       "      <td>0.70</td>\n",
       "      <td>0.00</td>\n",
       "      <td>1.9</td>\n",
       "      <td>0.076</td>\n",
       "      <td>11.0</td>\n",
       "      <td>34.0</td>\n",
       "      <td>0.9978</td>\n",
       "      <td>3.51</td>\n",
       "      <td>0.56</td>\n",
       "      <td>9.4</td>\n",
       "      <td>5</td>\n",
       "    </tr>\n",
       "    <tr>\n",
       "      <th>1</th>\n",
       "      <td>7.8</td>\n",
       "      <td>0.88</td>\n",
       "      <td>0.00</td>\n",
       "      <td>2.6</td>\n",
       "      <td>0.098</td>\n",
       "      <td>25.0</td>\n",
       "      <td>67.0</td>\n",
       "      <td>0.9968</td>\n",
       "      <td>3.20</td>\n",
       "      <td>0.68</td>\n",
       "      <td>9.8</td>\n",
       "      <td>5</td>\n",
       "    </tr>\n",
       "    <tr>\n",
       "      <th>2</th>\n",
       "      <td>7.8</td>\n",
       "      <td>0.76</td>\n",
       "      <td>0.04</td>\n",
       "      <td>2.3</td>\n",
       "      <td>0.092</td>\n",
       "      <td>15.0</td>\n",
       "      <td>54.0</td>\n",
       "      <td>0.9970</td>\n",
       "      <td>3.26</td>\n",
       "      <td>0.65</td>\n",
       "      <td>9.8</td>\n",
       "      <td>5</td>\n",
       "    </tr>\n",
       "    <tr>\n",
       "      <th>3</th>\n",
       "      <td>11.2</td>\n",
       "      <td>0.28</td>\n",
       "      <td>0.56</td>\n",
       "      <td>1.9</td>\n",
       "      <td>0.075</td>\n",
       "      <td>17.0</td>\n",
       "      <td>60.0</td>\n",
       "      <td>0.9980</td>\n",
       "      <td>3.16</td>\n",
       "      <td>0.58</td>\n",
       "      <td>9.8</td>\n",
       "      <td>6</td>\n",
       "    </tr>\n",
       "    <tr>\n",
       "      <th>4</th>\n",
       "      <td>7.4</td>\n",
       "      <td>0.70</td>\n",
       "      <td>0.00</td>\n",
       "      <td>1.9</td>\n",
       "      <td>0.076</td>\n",
       "      <td>11.0</td>\n",
       "      <td>34.0</td>\n",
       "      <td>0.9978</td>\n",
       "      <td>3.51</td>\n",
       "      <td>0.56</td>\n",
       "      <td>9.4</td>\n",
       "      <td>5</td>\n",
       "    </tr>\n",
       "  </tbody>\n",
       "</table>\n",
       "</div>"
      ],
      "text/plain": [
       "   fixed acidity  volatile acidity  citric acid  residual sugar  chlorides  \\\n",
       "0            7.4              0.70         0.00             1.9      0.076   \n",
       "1            7.8              0.88         0.00             2.6      0.098   \n",
       "2            7.8              0.76         0.04             2.3      0.092   \n",
       "3           11.2              0.28         0.56             1.9      0.075   \n",
       "4            7.4              0.70         0.00             1.9      0.076   \n",
       "\n",
       "   free sulfur dioxide  total sulfur dioxide  density    pH  sulphates  \\\n",
       "0                 11.0                  34.0   0.9978  3.51       0.56   \n",
       "1                 25.0                  67.0   0.9968  3.20       0.68   \n",
       "2                 15.0                  54.0   0.9970  3.26       0.65   \n",
       "3                 17.0                  60.0   0.9980  3.16       0.58   \n",
       "4                 11.0                  34.0   0.9978  3.51       0.56   \n",
       "\n",
       "   alcohol  quality  \n",
       "0      9.4        5  \n",
       "1      9.8        5  \n",
       "2      9.8        5  \n",
       "3      9.8        6  \n",
       "4      9.4        5  "
      ]
     },
     "execution_count": 261,
     "metadata": {},
     "output_type": "execute_result"
    }
   ],
   "source": [
    "# \"read_csv\" is a pandas function to read csv files from web or local drive:\n",
    "wine_df = pd.read_csv('https://raw.githubusercontent.com/pramirezx/WineQuality/main/winequality-red.csv')\n",
    "\n",
    "# checking the dataset by printing every 10 lines:\n",
    "wine_df.head()"
   ]
  },
  {
   "cell_type": "code",
   "execution_count": 262,
   "id": "27a9879b",
   "metadata": {
    "scrolled": true
   },
   "outputs": [
    {
     "data": {
      "text/html": [
       "<div>\n",
       "<style scoped>\n",
       "    .dataframe tbody tr th:only-of-type {\n",
       "        vertical-align: middle;\n",
       "    }\n",
       "\n",
       "    .dataframe tbody tr th {\n",
       "        vertical-align: top;\n",
       "    }\n",
       "\n",
       "    .dataframe thead th {\n",
       "        text-align: right;\n",
       "    }\n",
       "</style>\n",
       "<table border=\"1\" class=\"dataframe\">\n",
       "  <thead>\n",
       "    <tr style=\"text-align: right;\">\n",
       "      <th></th>\n",
       "      <th>fixed acidity</th>\n",
       "      <th>volatile acidity</th>\n",
       "      <th>citric acid</th>\n",
       "      <th>residual sugar</th>\n",
       "      <th>chlorides</th>\n",
       "      <th>free sulfur dioxide</th>\n",
       "      <th>total sulfur dioxide</th>\n",
       "      <th>density</th>\n",
       "      <th>pH</th>\n",
       "      <th>sulphates</th>\n",
       "      <th>alcohol</th>\n",
       "    </tr>\n",
       "  </thead>\n",
       "  <tbody>\n",
       "    <tr>\n",
       "      <th>0</th>\n",
       "      <td>7.4</td>\n",
       "      <td>0.700</td>\n",
       "      <td>0.00</td>\n",
       "      <td>1.9</td>\n",
       "      <td>0.076</td>\n",
       "      <td>11.0</td>\n",
       "      <td>34.0</td>\n",
       "      <td>0.99780</td>\n",
       "      <td>3.51</td>\n",
       "      <td>0.56</td>\n",
       "      <td>9.4</td>\n",
       "    </tr>\n",
       "    <tr>\n",
       "      <th>1</th>\n",
       "      <td>7.8</td>\n",
       "      <td>0.880</td>\n",
       "      <td>0.00</td>\n",
       "      <td>2.6</td>\n",
       "      <td>0.098</td>\n",
       "      <td>25.0</td>\n",
       "      <td>67.0</td>\n",
       "      <td>0.99680</td>\n",
       "      <td>3.20</td>\n",
       "      <td>0.68</td>\n",
       "      <td>9.8</td>\n",
       "    </tr>\n",
       "    <tr>\n",
       "      <th>2</th>\n",
       "      <td>7.8</td>\n",
       "      <td>0.760</td>\n",
       "      <td>0.04</td>\n",
       "      <td>2.3</td>\n",
       "      <td>0.092</td>\n",
       "      <td>15.0</td>\n",
       "      <td>54.0</td>\n",
       "      <td>0.99700</td>\n",
       "      <td>3.26</td>\n",
       "      <td>0.65</td>\n",
       "      <td>9.8</td>\n",
       "    </tr>\n",
       "    <tr>\n",
       "      <th>3</th>\n",
       "      <td>11.2</td>\n",
       "      <td>0.280</td>\n",
       "      <td>0.56</td>\n",
       "      <td>1.9</td>\n",
       "      <td>0.075</td>\n",
       "      <td>17.0</td>\n",
       "      <td>60.0</td>\n",
       "      <td>0.99800</td>\n",
       "      <td>3.16</td>\n",
       "      <td>0.58</td>\n",
       "      <td>9.8</td>\n",
       "    </tr>\n",
       "    <tr>\n",
       "      <th>4</th>\n",
       "      <td>7.4</td>\n",
       "      <td>0.700</td>\n",
       "      <td>0.00</td>\n",
       "      <td>1.9</td>\n",
       "      <td>0.076</td>\n",
       "      <td>11.0</td>\n",
       "      <td>34.0</td>\n",
       "      <td>0.99780</td>\n",
       "      <td>3.51</td>\n",
       "      <td>0.56</td>\n",
       "      <td>9.4</td>\n",
       "    </tr>\n",
       "    <tr>\n",
       "      <th>...</th>\n",
       "      <td>...</td>\n",
       "      <td>...</td>\n",
       "      <td>...</td>\n",
       "      <td>...</td>\n",
       "      <td>...</td>\n",
       "      <td>...</td>\n",
       "      <td>...</td>\n",
       "      <td>...</td>\n",
       "      <td>...</td>\n",
       "      <td>...</td>\n",
       "      <td>...</td>\n",
       "    </tr>\n",
       "    <tr>\n",
       "      <th>1594</th>\n",
       "      <td>6.2</td>\n",
       "      <td>0.600</td>\n",
       "      <td>0.08</td>\n",
       "      <td>2.0</td>\n",
       "      <td>0.090</td>\n",
       "      <td>32.0</td>\n",
       "      <td>44.0</td>\n",
       "      <td>0.99490</td>\n",
       "      <td>3.45</td>\n",
       "      <td>0.58</td>\n",
       "      <td>10.5</td>\n",
       "    </tr>\n",
       "    <tr>\n",
       "      <th>1595</th>\n",
       "      <td>5.9</td>\n",
       "      <td>0.550</td>\n",
       "      <td>0.10</td>\n",
       "      <td>2.2</td>\n",
       "      <td>0.062</td>\n",
       "      <td>39.0</td>\n",
       "      <td>51.0</td>\n",
       "      <td>0.99512</td>\n",
       "      <td>3.52</td>\n",
       "      <td>0.76</td>\n",
       "      <td>11.2</td>\n",
       "    </tr>\n",
       "    <tr>\n",
       "      <th>1596</th>\n",
       "      <td>6.3</td>\n",
       "      <td>0.510</td>\n",
       "      <td>0.13</td>\n",
       "      <td>2.3</td>\n",
       "      <td>0.076</td>\n",
       "      <td>29.0</td>\n",
       "      <td>40.0</td>\n",
       "      <td>0.99574</td>\n",
       "      <td>3.42</td>\n",
       "      <td>0.75</td>\n",
       "      <td>11.0</td>\n",
       "    </tr>\n",
       "    <tr>\n",
       "      <th>1597</th>\n",
       "      <td>5.9</td>\n",
       "      <td>0.645</td>\n",
       "      <td>0.12</td>\n",
       "      <td>2.0</td>\n",
       "      <td>0.075</td>\n",
       "      <td>32.0</td>\n",
       "      <td>44.0</td>\n",
       "      <td>0.99547</td>\n",
       "      <td>3.57</td>\n",
       "      <td>0.71</td>\n",
       "      <td>10.2</td>\n",
       "    </tr>\n",
       "    <tr>\n",
       "      <th>1598</th>\n",
       "      <td>6.0</td>\n",
       "      <td>0.310</td>\n",
       "      <td>0.47</td>\n",
       "      <td>3.6</td>\n",
       "      <td>0.067</td>\n",
       "      <td>18.0</td>\n",
       "      <td>42.0</td>\n",
       "      <td>0.99549</td>\n",
       "      <td>3.39</td>\n",
       "      <td>0.66</td>\n",
       "      <td>11.0</td>\n",
       "    </tr>\n",
       "  </tbody>\n",
       "</table>\n",
       "<p>1599 rows × 11 columns</p>\n",
       "</div>"
      ],
      "text/plain": [
       "      fixed acidity  volatile acidity  citric acid  residual sugar  chlorides  \\\n",
       "0               7.4             0.700         0.00             1.9      0.076   \n",
       "1               7.8             0.880         0.00             2.6      0.098   \n",
       "2               7.8             0.760         0.04             2.3      0.092   \n",
       "3              11.2             0.280         0.56             1.9      0.075   \n",
       "4               7.4             0.700         0.00             1.9      0.076   \n",
       "...             ...               ...          ...             ...        ...   \n",
       "1594            6.2             0.600         0.08             2.0      0.090   \n",
       "1595            5.9             0.550         0.10             2.2      0.062   \n",
       "1596            6.3             0.510         0.13             2.3      0.076   \n",
       "1597            5.9             0.645         0.12             2.0      0.075   \n",
       "1598            6.0             0.310         0.47             3.6      0.067   \n",
       "\n",
       "      free sulfur dioxide  total sulfur dioxide  density    pH  sulphates  \\\n",
       "0                    11.0                  34.0  0.99780  3.51       0.56   \n",
       "1                    25.0                  67.0  0.99680  3.20       0.68   \n",
       "2                    15.0                  54.0  0.99700  3.26       0.65   \n",
       "3                    17.0                  60.0  0.99800  3.16       0.58   \n",
       "4                    11.0                  34.0  0.99780  3.51       0.56   \n",
       "...                   ...                   ...      ...   ...        ...   \n",
       "1594                 32.0                  44.0  0.99490  3.45       0.58   \n",
       "1595                 39.0                  51.0  0.99512  3.52       0.76   \n",
       "1596                 29.0                  40.0  0.99574  3.42       0.75   \n",
       "1597                 32.0                  44.0  0.99547  3.57       0.71   \n",
       "1598                 18.0                  42.0  0.99549  3.39       0.66   \n",
       "\n",
       "      alcohol  \n",
       "0         9.4  \n",
       "1         9.8  \n",
       "2         9.8  \n",
       "3         9.8  \n",
       "4         9.4  \n",
       "...       ...  \n",
       "1594     10.5  \n",
       "1595     11.2  \n",
       "1596     11.0  \n",
       "1597     10.2  \n",
       "1598     11.0  \n",
       "\n",
       "[1599 rows x 11 columns]"
      ]
     },
     "execution_count": 262,
     "metadata": {},
     "output_type": "execute_result"
    }
   ],
   "source": [
    "# Creating the Feature Matrix for wine quality dataset:\n",
    "\n",
    "# create a python list of feature names that would like to pick from the dataset:\n",
    "feature_cols = ['fixed acidity','volatile acidity','citric acid','residual sugar','chlorides','free sulfur dioxide', 'total sulfur dioxide','density','pH','sulphates','alcohol']\n",
    "\n",
    "# use the above list to select the features from the original DataFrame\n",
    "X = wine_df[feature_cols]  \n",
    "\n",
    "# print the first 5 rows\n",
    "X"
   ]
  },
  {
   "cell_type": "code",
   "execution_count": 263,
   "id": "d065cfd5",
   "metadata": {},
   "outputs": [
    {
     "name": "stdout",
     "output_type": "stream",
     "text": [
      "(1599, 11)\n"
     ]
    }
   ],
   "source": [
    "# checking the size of Feature Matix X:\n",
    "\n",
    "print(X.shape)"
   ]
  },
  {
   "cell_type": "code",
   "execution_count": 264,
   "id": "03c03c22",
   "metadata": {},
   "outputs": [
    {
     "data": {
      "text/plain": [
       "0       5\n",
       "10      5\n",
       "20      6\n",
       "30      5\n",
       "40      5\n",
       "       ..\n",
       "1550    5\n",
       "1560    5\n",
       "1570    6\n",
       "1580    6\n",
       "1590    6\n",
       "Name: quality, Length: 160, dtype: int64"
      ]
     },
     "execution_count": 264,
     "metadata": {},
     "output_type": "execute_result"
    }
   ],
   "source": [
    "# select a Series of labels (the last column) from the DataFrame\n",
    "y = wine_df['quality'] # this is the original categorical labels (the latest revision of sklearn accepts non-numerical labels)\n",
    "\n",
    "# checking the label vector by printing every 10 values\n",
    "y[::10]"
   ]
  },
  {
   "cell_type": "markdown",
   "id": "ee9d7a36",
   "metadata": {},
   "source": [
    "### KNN Classifier"
   ]
  },
  {
   "cell_type": "code",
   "execution_count": 290,
   "id": "b93f37bb",
   "metadata": {},
   "outputs": [],
   "source": [
    "# In the following line, \"knn\" is instantiated as an \"object\" of KNeighborsClassifier \"class\". \n",
    "\n",
    "k = 1\n",
    "knn_wine = KNeighborsClassifier(n_neighbors=k) "
   ]
  },
  {
   "cell_type": "code",
   "execution_count": 291,
   "id": "379a29a0",
   "metadata": {},
   "outputs": [
    {
     "data": {
      "text/plain": [
       "KNeighborsClassifier(n_neighbors=1)"
      ]
     },
     "execution_count": 291,
     "metadata": {},
     "output_type": "execute_result"
    }
   ],
   "source": [
    "# We can use the method \"fit\" of the \"object knn\" along with training dataset and labels to train the model.\n",
    "\n",
    "knn_wine.fit(X, y)"
   ]
  },
  {
   "cell_type": "markdown",
   "id": "f088a0f3",
   "metadata": {},
   "source": [
    "#### Evaluating the accuracy of KNN Classifier"
   ]
  },
  {
   "cell_type": "code",
   "execution_count": 304,
   "id": "4410e9d9",
   "metadata": {},
   "outputs": [],
   "source": [
    "# Randomly splitting the original dataset into training set and testing set\n",
    "# The function\"train_test_split\" from \"sklearn.cross_validation\" library performs random splitting.\n",
    "# \"test_size=0.3\" means that pick 30% of data samples for testing set, and the rest (70%) for training set.\n",
    "\n",
    "X_train, X_test, y_train, y_test = train_test_split(X, y, test_size=0.30, random_state=3) # We can fix the random_state for reproducibility!"
   ]
  },
  {
   "cell_type": "code",
   "execution_count": 305,
   "id": "3bfe9e13",
   "metadata": {},
   "outputs": [
    {
     "name": "stdout",
     "output_type": "stream",
     "text": [
      "(1119, 11)\n",
      "(1119,)\n",
      "(480, 11)\n",
      "(480,)\n"
     ]
    }
   ],
   "source": [
    "# print the size of the traning set:\n",
    "print(X_train.shape)\n",
    "print(y_train.shape)\n",
    "\n",
    "# print the size of the testing set:\n",
    "print(X_test.shape)\n",
    "print(y_test.shape)"
   ]
  },
  {
   "cell_type": "code",
   "execution_count": 306,
   "id": "7060b6b2",
   "metadata": {},
   "outputs": [
    {
     "data": {
      "text/plain": [
       "KNeighborsClassifier(n_neighbors=1)"
      ]
     },
     "execution_count": 306,
     "metadata": {},
     "output_type": "execute_result"
    }
   ],
   "source": [
    "# Training ONLY on the training set:\n",
    "\n",
    "knn_wine.fit(X_train, y_train)"
   ]
  },
  {
   "cell_type": "code",
   "execution_count": 307,
   "id": "4681c3e3",
   "metadata": {},
   "outputs": [
    {
     "name": "stdout",
     "output_type": "stream",
     "text": [
      "[5 5 6 6 6 5 6 5 6 5 5 5 5 5 6 5 6 6 7 5 5 5 6 5 5 7 5 6 6 6 5 6 6 6 5 5 6\n",
      " 5 6 6 6 6 5 5 5 5 5 6 5 6 5 5 6 6 5 5 4 5 5 5 5 6 6 5 6 6 5 6 5 6 5 5 5 7\n",
      " 6 5 5 6 6 6 7 6 5 6 5 5 5 5 5 5 6 6 6 5 5 6 5 5 5 7 5 6 7 6 7 5 5 5 7 7 6\n",
      " 5 5 6 5 5 5 5 6 8 6 5 6 6 6 6 6 6 6 7 6 6 5 6 7 5 7 5 5 6 5 7 5 5 6 5 6 6\n",
      " 6 5 7 6 6 5 7 5 6 5 5 6 6 6 7 5 5 6 5 6 6 4 6 6 6 6 6 6 5 5 5 7 7 6 5 6 5\n",
      " 6 5 6 6 5 7 7 5 6 6 5 5 5 6 5 5 5 7 5 7 6 6 7 5 5 6 5 5 5 6 6 4 5 5 4 6 5\n",
      " 6 5 6 6 6 5 5 5 8 5 5 5 5 6 6 7 6 6 6 6 6 5 6 7 5 5 4 6 6 5 6 6 5 5 7 6 6\n",
      " 5 6 5 7 5 5 5 5 6 5 6 7 6 6 6 8 7 5 5 5 5 7 5 6 5 5 6 5 6 6 5 5 7 5 5 6 6\n",
      " 5 6 6 7 7 5 5 5 5 6 6 7 5 6 6 5 6 7 6 6 5 5 5 6 7 5 7 5 6 5 6 5 5 5 6 6 6\n",
      " 6 6 4 7 7 6 5 6 5 5 5 7 6 7 6 7 6 5 5 6 6 5 5 7 6 7 3 6 6 5 6 6 6 8 5 6 5\n",
      " 6 5 6 6 5 5 5 8 5 5 5 5 4 5 6 7 7 5 5 6 6 6 6 6 6 6 5 6 5 5 5 5 6 6 7 5 7\n",
      " 5 6 5 6 6 6 5 6 5 5 5 5 5 7 5 7 5 6 6 5 6 6 6 6 5 6 5 5 5 6 6 5 6 6 5 6 7\n",
      " 5 6 5 5 5 6 7 5 7 5 7 6 6 6 5 6 7 5 6 6 6 6 5 6 6 6 6 5 5 5 6 6 7 6 5 7]\n"
     ]
    }
   ],
   "source": [
    "# Testing on the testing set:\n",
    "\n",
    "y_predict = knn_wine.predict(X_test)\n",
    "\n",
    "print(y_predict)"
   ]
  },
  {
   "cell_type": "code",
   "execution_count": 308,
   "id": "11f713aa",
   "metadata": {},
   "outputs": [
    {
     "name": "stdout",
     "output_type": "stream",
     "text": [
      "0.5833333333333334\n"
     ]
    }
   ],
   "source": [
    "wine_accuracy = accuracy_score(y_test, y_predict)\n",
    "\n",
    "print(wine_accuracy)"
   ]
  },
  {
   "cell_type": "code",
   "execution_count": 311,
   "id": "3accfcf1",
   "metadata": {},
   "outputs": [
    {
     "name": "stdout",
     "output_type": "stream",
     "text": [
      "[0.5833333333333334, 0.48333333333333334, 0.475, 0.4791666666666667, 0.49166666666666664, 0.48125, 0.47291666666666665, 0.5083333333333333, 0.4979166666666667, 0.5, 0.48125, 0.4979166666666667, 0.5041666666666667, 0.5083333333333333, 0.50625, 0.525, 0.5333333333333333, 0.5375, 0.5375, 0.5354166666666667, 0.525, 0.5208333333333334, 0.5145833333333333, 0.5229166666666667, 0.5229166666666667]\n"
     ]
    }
   ],
   "source": [
    "# try K=1 through K=25 and record testing accuracy\n",
    "knn_range = range(1, 26)\n",
    "\n",
    "# We can create Python dictionary using [] or dict()\n",
    "wine_scores = []\n",
    "\n",
    "# We use a loop through the range 1 to 26\n",
    "# We append the scores in the dictionary\n",
    "for k in knn_range:\n",
    "    knnWQ = KNeighborsClassifier(n_neighbors=k)\n",
    "    knnWQ.fit(X_train, y_train)\n",
    "    y_pred = knnWQ.predict(X_test)\n",
    "    wine_scores.append(metrics.accuracy_score(y_test, y_pred))\n",
    "\n",
    "print(wine_scores)"
   ]
  },
  {
   "cell_type": "code",
   "execution_count": 272,
   "id": "0761adb2",
   "metadata": {},
   "outputs": [
    {
     "name": "stdout",
     "output_type": "stream",
     "text": [
      "      actual  prediction\n",
      "236        6           5\n",
      "833        4           5\n",
      "424        5           5\n",
      "982        6           6\n",
      "1155       5           5\n",
      "...      ...         ...\n",
      "580        5           6\n",
      "1338       5           6\n",
      "1429       5           6\n",
      "1058       7           5\n",
      "866        6           6\n",
      "\n",
      "[480 rows x 2 columns]\n"
     ]
    }
   ],
   "source": [
    "results = pd.DataFrame()\n",
    "\n",
    "results['actual'] = y_test \n",
    "results['prediction'] = y_predict \n",
    "\n",
    "print(results)"
   ]
  },
  {
   "cell_type": "code",
   "execution_count": 273,
   "id": "537ecdcd",
   "metadata": {},
   "outputs": [
    {
     "data": {
      "text/plain": [
       "array([[-0.52835961,  0.96187667, -1.39147228, ...,  1.28864292,\n",
       "        -0.57920652, -0.96024611],\n",
       "       [-0.29854743,  1.96744245, -1.39147228, ..., -0.7199333 ,\n",
       "         0.1289504 , -0.58477711],\n",
       "       [-0.29854743,  1.29706527, -1.18607043, ..., -0.33117661,\n",
       "        -0.04808883, -0.58477711],\n",
       "       ...,\n",
       "       [-1.1603431 , -0.09955388, -0.72391627, ...,  0.70550789,\n",
       "         0.54204194,  0.54162988],\n",
       "       [-1.39015528,  0.65462046, -0.77526673, ...,  1.6773996 ,\n",
       "         0.30598963, -0.20930812],\n",
       "       [-1.33270223, -1.21684919,  1.02199944, ...,  0.51112954,\n",
       "         0.01092425,  0.54162988]])"
      ]
     },
     "execution_count": 273,
     "metadata": {},
     "output_type": "execute_result"
    }
   ],
   "source": [
    "# Normalize the features (scale)\n",
    "\n",
    "scale(X)"
   ]
  },
  {
   "cell_type": "code",
   "execution_count": 274,
   "id": "39f0e9c0",
   "metadata": {},
   "outputs": [],
   "source": [
    "# Predicting the Binary Label:\n",
    "y_predict_lr = knn_wine.predict(X_test)\n",
    "\n",
    "# Estimating the probability (likelihood) of Each Label: \n",
    "y_predict_prob_lr = knn_wine.predict_proba(X_test)"
   ]
  },
  {
   "cell_type": "code",
   "execution_count": 275,
   "id": "7d823ac9",
   "metadata": {},
   "outputs": [
    {
     "name": "stdout",
     "output_type": "stream",
     "text": [
      "236     6\n",
      "833     4\n",
      "424     5\n",
      "982     6\n",
      "1155    5\n",
      "       ..\n",
      "580     5\n",
      "1338    5\n",
      "1429    5\n",
      "1058    7\n",
      "866     6\n",
      "Name: quality, Length: 480, dtype: int64\n",
      "[5 5 5 6 5 5 5 6 5 5 6 5 6 5 5 6 6 6 5 5 5 5 5 6 6 6 6 5 6 5 5 5 5 5 6 5 5\n",
      " 6 5 5 6 6 6 5 6 5 6 5 6 5 6 6 5 6 6 6 5 5 6 6 5 6 5 5 5 6 6 5 6 6 6 6 6 6\n",
      " 5 5 5 6 5 6 6 5 5 6 5 5 6 5 5 5 5 6 6 6 6 5 6 6 6 6 6 6 5 6 6 5 6 5 5 5 6\n",
      " 5 6 6 5 5 5 5 5 6 6 6 5 6 5 6 6 5 5 5 5 5 6 6 6 5 5 6 5 6 5 5 5 6 6 5 5 5\n",
      " 6 6 6 5 5 6 5 5 5 5 5 5 6 5 6 6 6 5 5 5 6 5 5 6 5 5 6 6 5 5 6 6 6 6 5 5 5\n",
      " 6 6 6 6 6 6 5 6 6 5 6 6 6 5 6 5 6 6 5 6 6 5 6 5 6 5 6 6 5 6 5 6 5 6 6 6 5\n",
      " 6 5 5 5 6 5 5 5 6 6 6 5 5 5 5 5 6 5 5 6 5 5 5 5 6 5 5 5 6 6 6 6 5 6 6 6 6\n",
      " 6 5 6 5 6 5 5 6 5 5 5 5 6 6 6 6 6 6 5 5 5 6 6 6 5 5 5 7 5 6 5 5 5 6 5 5 5\n",
      " 5 6 5 6 5 5 5 5 5 6 6 6 5 5 5 6 5 6 5 5 5 6 5 6 6 5 5 5 6 6 6 5 6 6 5 6 5\n",
      " 6 5 5 6 6 5 6 6 6 5 5 5 5 6 6 6 6 5 5 5 5 5 5 6 6 5 6 6 5 6 5 5 6 5 5 6 5\n",
      " 5 6 6 5 5 6 5 6 6 5 6 6 5 6 6 6 5 5 6 5 6 6 6 5 6 6 5 6 5 6 6 5 5 5 6 5 5\n",
      " 5 5 5 6 5 6 6 6 5 6 6 6 6 5 6 5 5 5 6 6 6 6 6 6 6 6 6 6 5 5 5 6 6 5 6 5 6\n",
      " 6 5 5 5 6 5 6 6 5 5 6 6 5 5 5 6 6 5 6 5 5 6 6 5 6 5 5 5 6 6 6 6 6 6 5 6]\n",
      "[[0.         0.03389831 0.54237288 0.40677966 0.01694915 0.        ]\n",
      " [0.01694915 0.01694915 0.42372881 0.42372881 0.10169492 0.01694915]\n",
      " [0.         0.05084746 0.57627119 0.33898305 0.03389831 0.        ]\n",
      " ...\n",
      " [0.         0.01694915 0.38983051 0.54237288 0.05084746 0.        ]\n",
      " [0.01694915 0.01694915 0.45762712 0.37288136 0.11864407 0.01694915]\n",
      " [0.         0.05084746 0.25423729 0.47457627 0.22033898 0.        ]]\n",
      "[0.03389831 0.01694915 0.05084746 0.03389831 0.03389831 0.05084746\n",
      " 0.01694915 0.05084746 0.03389831 0.01694915 0.06779661 0.01694915\n",
      " 0.06779661 0.03389831 0.01694915 0.01694915 0.05084746 0.03389831\n",
      " 0.01694915 0.05084746 0.01694915 0.05084746 0.03389831 0.06779661\n",
      " 0.10169492 0.05084746 0.01694915 0.08474576 0.03389831 0.03389831\n",
      " 0.05084746 0.06779661 0.01694915 0.03389831 0.03389831 0.01694915\n",
      " 0.01694915 0.         0.03389831 0.01694915 0.01694915 0.05084746\n",
      " 0.01694915 0.         0.03389831 0.03389831 0.03389831 0.03389831\n",
      " 0.01694915 0.01694915 0.03389831 0.03389831 0.03389831 0.01694915\n",
      " 0.         0.03389831 0.05084746 0.01694915 0.03389831 0.03389831\n",
      " 0.03389831 0.10169492 0.01694915 0.01694915 0.01694915 0.01694915\n",
      " 0.10169492 0.03389831 0.01694915 0.03389831 0.01694915 0.05084746\n",
      " 0.01694915 0.06779661 0.05084746 0.01694915 0.01694915 0.03389831\n",
      " 0.01694915 0.03389831 0.05084746 0.03389831 0.03389831 0.01694915\n",
      " 0.01694915 0.06779661 0.03389831 0.01694915 0.11864407 0.01694915\n",
      " 0.03389831 0.06779661 0.01694915 0.05084746 0.05084746 0.03389831\n",
      " 0.01694915 0.03389831 0.03389831 0.11864407 0.         0.01694915\n",
      " 0.15254237 0.01694915 0.05084746 0.01694915 0.03389831 0.11864407\n",
      " 0.06779661 0.13559322 0.03389831 0.03389831 0.03389831 0.01694915\n",
      " 0.01694915 0.01694915 0.01694915 0.01694915 0.01694915 0.01694915\n",
      " 0.05084746 0.03389831 0.         0.01694915 0.01694915 0.01694915\n",
      " 0.05084746 0.03389831 0.01694915 0.03389831 0.01694915 0.01694915\n",
      " 0.01694915 0.11864407 0.03389831 0.01694915 0.01694915 0.01694915\n",
      " 0.         0.03389831 0.01694915 0.01694915 0.03389831 0.11864407\n",
      " 0.13559322 0.03389831 0.01694915 0.03389831 0.01694915 0.03389831\n",
      " 0.01694915 0.01694915 0.06779661 0.03389831 0.05084746 0.01694915\n",
      " 0.03389831 0.03389831 0.01694915 0.05084746 0.03389831 0.01694915\n",
      " 0.05084746 0.03389831 0.03389831 0.15254237 0.03389831 0.03389831\n",
      " 0.11864407 0.03389831 0.05084746 0.10169492 0.10169492 0.05084746\n",
      " 0.03389831 0.01694915 0.01694915 0.01694915 0.01694915 0.01694915\n",
      " 0.01694915 0.03389831 0.05084746 0.01694915 0.03389831 0.08474576\n",
      " 0.03389831 0.03389831 0.01694915 0.05084746 0.01694915 0.01694915\n",
      " 0.01694915 0.03389831 0.05084746 0.01694915 0.01694915 0.05084746\n",
      " 0.01694915 0.03389831 0.01694915 0.05084746 0.10169492 0.06779661\n",
      " 0.01694915 0.03389831 0.05084746 0.01694915 0.10169492 0.03389831\n",
      " 0.01694915 0.05084746 0.         0.06779661 0.03389831 0.01694915\n",
      " 0.01694915 0.03389831 0.06779661 0.         0.01694915 0.05084746\n",
      " 0.06779661 0.01694915 0.06779661 0.06779661 0.05084746 0.01694915\n",
      " 0.06779661 0.         0.03389831 0.06779661 0.05084746 0.13559322\n",
      " 0.01694915 0.01694915 0.13559322 0.01694915 0.10169492 0.01694915\n",
      " 0.06779661 0.06779661 0.05084746 0.03389831 0.05084746 0.01694915\n",
      " 0.06779661 0.03389831 0.01694915 0.03389831 0.06779661 0.01694915\n",
      " 0.03389831 0.         0.03389831 0.05084746 0.03389831 0.01694915\n",
      " 0.01694915 0.         0.01694915 0.03389831 0.08474576 0.03389831\n",
      " 0.05084746 0.01694915 0.01694915 0.01694915 0.         0.01694915\n",
      " 0.01694915 0.05084746 0.03389831 0.05084746 0.03389831 0.05084746\n",
      " 0.10169492 0.01694915 0.01694915 0.01694915 0.03389831 0.03389831\n",
      " 0.08474576 0.01694915 0.05084746 0.03389831 0.03389831 0.\n",
      " 0.03389831 0.03389831 0.05084746 0.01694915 0.01694915 0.05084746\n",
      " 0.03389831 0.03389831 0.01694915 0.06779661 0.06779661 0.01694915\n",
      " 0.06779661 0.11864407 0.03389831 0.08474576 0.05084746 0.01694915\n",
      " 0.01694915 0.03389831 0.01694915 0.03389831 0.03389831 0.06779661\n",
      " 0.01694915 0.05084746 0.01694915 0.03389831 0.08474576 0.01694915\n",
      " 0.03389831 0.05084746 0.03389831 0.03389831 0.06779661 0.05084746\n",
      " 0.01694915 0.         0.01694915 0.01694915 0.05084746 0.01694915\n",
      " 0.01694915 0.03389831 0.01694915 0.05084746 0.01694915 0.03389831\n",
      " 0.03389831 0.05084746 0.05084746 0.01694915 0.06779661 0.15254237\n",
      " 0.15254237 0.05084746 0.01694915 0.01694915 0.01694915 0.03389831\n",
      " 0.03389831 0.01694915 0.01694915 0.03389831 0.06779661 0.05084746\n",
      " 0.06779661 0.01694915 0.03389831 0.06779661 0.01694915 0.03389831\n",
      " 0.05084746 0.03389831 0.03389831 0.11864407 0.03389831 0.03389831\n",
      " 0.03389831 0.01694915 0.01694915 0.01694915 0.01694915 0.03389831\n",
      " 0.01694915 0.03389831 0.06779661 0.11864407 0.03389831 0.10169492\n",
      " 0.03389831 0.03389831 0.15254237 0.05084746 0.01694915 0.03389831\n",
      " 0.03389831 0.06779661 0.05084746 0.01694915 0.01694915 0.\n",
      " 0.01694915 0.06779661 0.01694915 0.01694915 0.         0.01694915\n",
      " 0.01694915 0.01694915 0.05084746 0.10169492 0.05084746 0.06779661\n",
      " 0.01694915 0.11864407 0.01694915 0.         0.01694915 0.01694915\n",
      " 0.05084746 0.         0.03389831 0.01694915 0.03389831 0.03389831\n",
      " 0.03389831 0.01694915 0.05084746 0.01694915 0.01694915 0.03389831\n",
      " 0.03389831 0.05084746 0.06779661 0.         0.         0.01694915\n",
      " 0.05084746 0.03389831 0.03389831 0.         0.03389831 0.03389831\n",
      " 0.05084746 0.01694915 0.01694915 0.10169492 0.03389831 0.01694915\n",
      " 0.11864407 0.01694915 0.01694915 0.06779661 0.03389831 0.01694915\n",
      " 0.03389831 0.01694915 0.01694915 0.15254237 0.05084746 0.\n",
      " 0.03389831 0.11864407 0.03389831 0.01694915 0.03389831 0.01694915\n",
      " 0.         0.05084746 0.13559322 0.06779661 0.03389831 0.11864407\n",
      " 0.10169492 0.01694915 0.01694915 0.03389831 0.01694915 0.06779661\n",
      " 0.03389831 0.03389831 0.05084746 0.01694915 0.03389831 0.10169492\n",
      " 0.11864407 0.03389831 0.06779661 0.01694915 0.01694915 0.05084746]\n"
     ]
    }
   ],
   "source": [
    "# This line prints the \"actual label\" of the testing set:\n",
    "print(y_test)\n",
    "\n",
    "# This line prints the \"predicted label\" for the testing set:\n",
    "print(y_predict_lr)\n",
    "\n",
    "# This line prints the \"estimated likelihood of both label\" for the testing set:\n",
    "print(y_predict_prob_lr)\n",
    "\n",
    "# This line prints the \"estimated likelihood of label=1\" for the testing set:\n",
    "print(y_predict_prob_lr[:,1])"
   ]
  },
  {
   "cell_type": "markdown",
   "id": "fca093cc",
   "metadata": {},
   "source": [
    "### True Positive Rate (TPR) and False Positive Rate (FPR):"
   ]
  },
  {
   "cell_type": "code",
   "execution_count": 281,
   "id": "f0f15d27",
   "metadata": {},
   "outputs": [],
   "source": [
    "fpr, tpr, thresholds = metrics.roc_curve(y_test, y_predict_prob_lr[:,1], pos_label= 5)\n",
    "fpr2, tpr2, thresholds2 = metrics.roc_curve(y_test, y_predict_prob_lr[:,1], pos_label= 6)\n",
    "fpr3, tpr3, thresholds3 = metrics.roc_curve(y_test, y_predict_prob_lr[:,1], pos_label= 7)\n",
    "fpr4, tpr4, thresholds4 = metrics.roc_curve(y_test, y_predict_prob_lr[:,1], pos_label= 8)\n"
   ]
  },
  {
   "cell_type": "markdown",
   "id": "53797e22",
   "metadata": {},
   "source": [
    "### AUC"
   ]
  },
  {
   "cell_type": "code",
   "execution_count": 277,
   "id": "da068deb",
   "metadata": {},
   "outputs": [
    {
     "name": "stdout",
     "output_type": "stream",
     "text": [
      "0.44035624483480157\n",
      "0.5169441416138509\n",
      "0.557775718257646\n",
      "0.6084264572636666\n"
     ]
    }
   ],
   "source": [
    "# AUC:\n",
    "AUC = metrics.auc(fpr, tpr)\n",
    "print(AUC)\n",
    "\n",
    "# AUC2:\n",
    "AUC2 = metrics.auc(fpr2, tpr2)\n",
    "print(AUC2)\n",
    "\n",
    "# AUC3:\n",
    "AUC3 = metrics.auc(fpr3, tpr3)\n",
    "print(AUC3)\n",
    "\n",
    "# AUC4:\n",
    "AUC4 = metrics.auc(fpr4, tpr4)\n",
    "print(AUC4)"
   ]
  },
  {
   "cell_type": "markdown",
   "id": "7425d003",
   "metadata": {},
   "source": [
    "### ROC Curve:"
   ]
  },
  {
   "cell_type": "code",
   "execution_count": 278,
   "id": "c242a19a",
   "metadata": {},
   "outputs": [
    {
     "data": {
      "image/png": "[encoded data removed]",
      "text/plain": [
       "<Figure size 432x288 with 1 Axes>"
      ]
     },
     "metadata": {
      "needs_background": "light"
     },
     "output_type": "display_data"
    }
   ],
   "source": [
    "# The following line will tell Jupyter Notebook to keep the figures inside the explorer page \n",
    "%matplotlib inline\n",
    "\n",
    "plt.figure()\n",
    "\n",
    "# Roc Curve1:\n",
    "plt.plot(fpr, tpr, color='red', lw=2, \n",
    "         label='ROC Curve (area = %0.2f)' % AUC)\n",
    "\n",
    "# Roc Curve2:\n",
    "plt.plot(fpr2, tpr2, color='green', lw=2, \n",
    "         label='ROC Curve (area = %0.2f)' % AUC2)\n",
    "\n",
    "# Roc Curve3:\n",
    "plt.plot(fpr3, tpr3, color='blue', lw=2, \n",
    "         label='ROC Curve (area = %0.2f)' % AUC3)\n",
    "\n",
    "# Roc Curve4:\n",
    "plt.plot(fpr4, tpr4, color='purple', lw=2, \n",
    "         label='ROC Curve (area = %0.2f)' % AUC4)\n",
    "\n",
    "# Random Guess line:\n",
    "plt.plot([0, 1], [0, 1], color='blue', lw=1, linestyle='--')\n",
    "\n",
    "# Defining The Range of X-Axis and Y-Axis:\n",
    "plt.xlim([-0.005, 1.005])\n",
    "plt.ylim([0.0, 1.01])\n",
    "\n",
    "# Labels, Title, Legend:\n",
    "plt.xlabel('False Positive Rate')\n",
    "plt.ylabel('True Positive Rate')\n",
    "plt.title('Receiver operating characteristic')\n",
    "plt.legend(loc=\"lower right\")\n",
    "\n",
    "plt.show()"
   ]
  },
  {
   "cell_type": "markdown",
   "id": "a6751be7",
   "metadata": {},
   "source": [
    "### Analysis of Data:"
   ]
  },
  {
   "cell_type": "code",
   "execution_count": 282,
   "id": "48e83dec",
   "metadata": {
    "scrolled": false
   },
   "outputs": [
    {
     "data": {
      "text/plain": [
       "<AxesSubplot:xlabel='density', ylabel='alcohol'>"
      ]
     },
     "execution_count": 282,
     "metadata": {},
     "output_type": "execute_result"
    },
    {
     "data": {
      "image/png": "[encoded data removed]",
      "text/plain": [
       "<Figure size 720x504 with 1 Axes>"
      ]
     },
     "metadata": {
      "needs_background": "light"
     },
     "output_type": "display_data"
    }
   ],
   "source": [
    "plt.figure(figsize=(10, 7))\n",
    "\n",
    "sns.scatterplot(x='density',y='alcohol',data= wine_df, hue='quality', palette='deep')"
   ]
  },
  {
   "cell_type": "code",
   "execution_count": null,
   "id": "43feeba9",
   "metadata": {},
   "outputs": [],
   "source": []
  }
 ],
 "metadata": {
  "kernelspec": {
   "display_name": "Python 3",
   "language": "python",
   "name": "python3"
  },
  "language_info": {
   "codemirror_mode": {
    "name": "ipython",
    "version": 3
   },
   "file_extension": ".py",
   "mimetype": "text/x-python",
   "name": "python",
   "nbconvert_exporter": "python",
   "pygments_lexer": "ipython3",
   "version": "3.8.8"
  }
 },
 "nbformat": 4,
 "nbformat_minor": 5
}
