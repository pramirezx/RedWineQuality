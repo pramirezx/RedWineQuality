{
 "cells": [
  {
   "cell_type": "code",
   "execution_count": 1,
   "id": "6bb7ddcb",
   "metadata": {},
   "outputs": [],
   "source": [
    "import pandas as pd\n",
    "import numpy as np\n",
    "from sklearn.model_selection import train_test_split\n",
    "from sklearn.linear_model import LogisticRegression\n",
    "from sklearn.metrics import accuracy_score\n",
    "import matplotlib.pyplot as plt\n",
    "from sklearn import metrics\n",
    "from sklearn.model_selection import cross_val_score"
   ]
  },
  {
   "cell_type": "code",
   "execution_count": 3,
   "id": "e8a5a309",
   "metadata": {},
   "outputs": [
    {
     "data": {
      "text/html": [
       "<div>\n",
       "<style scoped>\n",
       "    .dataframe tbody tr th:only-of-type {\n",
       "        vertical-align: middle;\n",
       "    }\n",
       "\n",
       "    .dataframe tbody tr th {\n",
       "        vertical-align: top;\n",
       "    }\n",
       "\n",
       "    .dataframe thead th {\n",
       "        text-align: right;\n",
       "    }\n",
       "</style>\n",
       "<table border=\"1\" class=\"dataframe\">\n",
       "  <thead>\n",
       "    <tr style=\"text-align: right;\">\n",
       "      <th></th>\n",
       "      <th>fixed acidity</th>\n",
       "      <th>volatile acidity</th>\n",
       "      <th>citric acid</th>\n",
       "      <th>residual sugar</th>\n",
       "      <th>chlorides</th>\n",
       "      <th>free sulfur dioxide</th>\n",
       "      <th>total sulfur dioxide</th>\n",
       "      <th>density</th>\n",
       "      <th>pH</th>\n",
       "      <th>sulphates</th>\n",
       "      <th>alcohol</th>\n",
       "      <th>quality</th>\n",
       "    </tr>\n",
       "  </thead>\n",
       "  <tbody>\n",
       "    <tr>\n",
       "      <th>0</th>\n",
       "      <td>7.4</td>\n",
       "      <td>0.700</td>\n",
       "      <td>0.00</td>\n",
       "      <td>1.9</td>\n",
       "      <td>0.076</td>\n",
       "      <td>11.0</td>\n",
       "      <td>34.0</td>\n",
       "      <td>0.99780</td>\n",
       "      <td>3.51</td>\n",
       "      <td>0.56</td>\n",
       "      <td>9.4</td>\n",
       "      <td>5</td>\n",
       "    </tr>\n",
       "    <tr>\n",
       "      <th>1</th>\n",
       "      <td>7.8</td>\n",
       "      <td>0.880</td>\n",
       "      <td>0.00</td>\n",
       "      <td>2.6</td>\n",
       "      <td>0.098</td>\n",
       "      <td>25.0</td>\n",
       "      <td>67.0</td>\n",
       "      <td>0.99680</td>\n",
       "      <td>3.20</td>\n",
       "      <td>0.68</td>\n",
       "      <td>9.8</td>\n",
       "      <td>5</td>\n",
       "    </tr>\n",
       "    <tr>\n",
       "      <th>2</th>\n",
       "      <td>7.8</td>\n",
       "      <td>0.760</td>\n",
       "      <td>0.04</td>\n",
       "      <td>2.3</td>\n",
       "      <td>0.092</td>\n",
       "      <td>15.0</td>\n",
       "      <td>54.0</td>\n",
       "      <td>0.99700</td>\n",
       "      <td>3.26</td>\n",
       "      <td>0.65</td>\n",
       "      <td>9.8</td>\n",
       "      <td>5</td>\n",
       "    </tr>\n",
       "    <tr>\n",
       "      <th>3</th>\n",
       "      <td>11.2</td>\n",
       "      <td>0.280</td>\n",
       "      <td>0.56</td>\n",
       "      <td>1.9</td>\n",
       "      <td>0.075</td>\n",
       "      <td>17.0</td>\n",
       "      <td>60.0</td>\n",
       "      <td>0.99800</td>\n",
       "      <td>3.16</td>\n",
       "      <td>0.58</td>\n",
       "      <td>9.8</td>\n",
       "      <td>6</td>\n",
       "    </tr>\n",
       "    <tr>\n",
       "      <th>4</th>\n",
       "      <td>7.4</td>\n",
       "      <td>0.700</td>\n",
       "      <td>0.00</td>\n",
       "      <td>1.9</td>\n",
       "      <td>0.076</td>\n",
       "      <td>11.0</td>\n",
       "      <td>34.0</td>\n",
       "      <td>0.99780</td>\n",
       "      <td>3.51</td>\n",
       "      <td>0.56</td>\n",
       "      <td>9.4</td>\n",
       "      <td>5</td>\n",
       "    </tr>\n",
       "    <tr>\n",
       "      <th>...</th>\n",
       "      <td>...</td>\n",
       "      <td>...</td>\n",
       "      <td>...</td>\n",
       "      <td>...</td>\n",
       "      <td>...</td>\n",
       "      <td>...</td>\n",
       "      <td>...</td>\n",
       "      <td>...</td>\n",
       "      <td>...</td>\n",
       "      <td>...</td>\n",
       "      <td>...</td>\n",
       "      <td>...</td>\n",
       "    </tr>\n",
       "    <tr>\n",
       "      <th>1594</th>\n",
       "      <td>6.2</td>\n",
       "      <td>0.600</td>\n",
       "      <td>0.08</td>\n",
       "      <td>2.0</td>\n",
       "      <td>0.090</td>\n",
       "      <td>32.0</td>\n",
       "      <td>44.0</td>\n",
       "      <td>0.99490</td>\n",
       "      <td>3.45</td>\n",
       "      <td>0.58</td>\n",
       "      <td>10.5</td>\n",
       "      <td>5</td>\n",
       "    </tr>\n",
       "    <tr>\n",
       "      <th>1595</th>\n",
       "      <td>5.9</td>\n",
       "      <td>0.550</td>\n",
       "      <td>0.10</td>\n",
       "      <td>2.2</td>\n",
       "      <td>0.062</td>\n",
       "      <td>39.0</td>\n",
       "      <td>51.0</td>\n",
       "      <td>0.99512</td>\n",
       "      <td>3.52</td>\n",
       "      <td>0.76</td>\n",
       "      <td>11.2</td>\n",
       "      <td>6</td>\n",
       "    </tr>\n",
       "    <tr>\n",
       "      <th>1596</th>\n",
       "      <td>6.3</td>\n",
       "      <td>0.510</td>\n",
       "      <td>0.13</td>\n",
       "      <td>2.3</td>\n",
       "      <td>0.076</td>\n",
       "      <td>29.0</td>\n",
       "      <td>40.0</td>\n",
       "      <td>0.99574</td>\n",
       "      <td>3.42</td>\n",
       "      <td>0.75</td>\n",
       "      <td>11.0</td>\n",
       "      <td>6</td>\n",
       "    </tr>\n",
       "    <tr>\n",
       "      <th>1597</th>\n",
       "      <td>5.9</td>\n",
       "      <td>0.645</td>\n",
       "      <td>0.12</td>\n",
       "      <td>2.0</td>\n",
       "      <td>0.075</td>\n",
       "      <td>32.0</td>\n",
       "      <td>44.0</td>\n",
       "      <td>0.99547</td>\n",
       "      <td>3.57</td>\n",
       "      <td>0.71</td>\n",
       "      <td>10.2</td>\n",
       "      <td>5</td>\n",
       "    </tr>\n",
       "    <tr>\n",
       "      <th>1598</th>\n",
       "      <td>6.0</td>\n",
       "      <td>0.310</td>\n",
       "      <td>0.47</td>\n",
       "      <td>3.6</td>\n",
       "      <td>0.067</td>\n",
       "      <td>18.0</td>\n",
       "      <td>42.0</td>\n",
       "      <td>0.99549</td>\n",
       "      <td>3.39</td>\n",
       "      <td>0.66</td>\n",
       "      <td>11.0</td>\n",
       "      <td>6</td>\n",
       "    </tr>\n",
       "  </tbody>\n",
       "</table>\n",
       "<p>1599 rows × 12 columns</p>\n",
       "</div>"
      ],
      "text/plain": [
       "      fixed acidity  volatile acidity  citric acid  residual sugar  chlorides  \\\n",
       "0               7.4             0.700         0.00             1.9      0.076   \n",
       "1               7.8             0.880         0.00             2.6      0.098   \n",
       "2               7.8             0.760         0.04             2.3      0.092   \n",
       "3              11.2             0.280         0.56             1.9      0.075   \n",
       "4               7.4             0.700         0.00             1.9      0.076   \n",
       "...             ...               ...          ...             ...        ...   \n",
       "1594            6.2             0.600         0.08             2.0      0.090   \n",
       "1595            5.9             0.550         0.10             2.2      0.062   \n",
       "1596            6.3             0.510         0.13             2.3      0.076   \n",
       "1597            5.9             0.645         0.12             2.0      0.075   \n",
       "1598            6.0             0.310         0.47             3.6      0.067   \n",
       "\n",
       "      free sulfur dioxide  total sulfur dioxide  density    pH  sulphates  \\\n",
       "0                    11.0                  34.0  0.99780  3.51       0.56   \n",
       "1                    25.0                  67.0  0.99680  3.20       0.68   \n",
       "2                    15.0                  54.0  0.99700  3.26       0.65   \n",
       "3                    17.0                  60.0  0.99800  3.16       0.58   \n",
       "4                    11.0                  34.0  0.99780  3.51       0.56   \n",
       "...                   ...                   ...      ...   ...        ...   \n",
       "1594                 32.0                  44.0  0.99490  3.45       0.58   \n",
       "1595                 39.0                  51.0  0.99512  3.52       0.76   \n",
       "1596                 29.0                  40.0  0.99574  3.42       0.75   \n",
       "1597                 32.0                  44.0  0.99547  3.57       0.71   \n",
       "1598                 18.0                  42.0  0.99549  3.39       0.66   \n",
       "\n",
       "      alcohol  quality  \n",
       "0         9.4        5  \n",
       "1         9.8        5  \n",
       "2         9.8        5  \n",
       "3         9.8        6  \n",
       "4         9.4        5  \n",
       "...       ...      ...  \n",
       "1594     10.5        5  \n",
       "1595     11.2        6  \n",
       "1596     11.0        6  \n",
       "1597     10.2        5  \n",
       "1598     11.0        6  \n",
       "\n",
       "[1599 rows x 12 columns]"
      ]
     },
     "execution_count": 3,
     "metadata": {},
     "output_type": "execute_result"
    }
   ],
   "source": [
    "df  = pd.read_csv(\"https://raw.githubusercontent.com/pramirezx/WineQuality/main/winequality-red.csv\")\n",
    "df"
   ]
  },
  {
   "cell_type": "code",
   "execution_count": 4,
   "id": "05ec6ce6",
   "metadata": {},
   "outputs": [],
   "source": [
    "features = ['fixed acidity','volatile acidity','citric acid','residual sugar','chlorides','free sulfur dioxide','total sulfur dioxide',\n",
    "            'density','pH','sulphates','alcohol']\n",
    "X = df[features]"
   ]
  },
  {
   "cell_type": "code",
   "execution_count": 5,
   "id": "c88cc9d6",
   "metadata": {},
   "outputs": [],
   "source": [
    "y=df['quality']"
   ]
  },
  {
   "cell_type": "code",
   "execution_count": 6,
   "id": "6dbd06b9",
   "metadata": {},
   "outputs": [],
   "source": [
    "X_train, X_test, y_train, y_test = train_test_split(X, y, test_size=0.3,random_state=5)"
   ]
  },
  {
   "cell_type": "code",
   "execution_count": 7,
   "id": "3c8f83ef",
   "metadata": {},
   "outputs": [],
   "source": [
    "logisreg = LogisticRegression(max_iter=10500)"
   ]
  },
  {
   "cell_type": "code",
   "execution_count": 8,
   "id": "9051c9d8",
   "metadata": {},
   "outputs": [
    {
     "data": {
      "text/plain": [
       "LogisticRegression(max_iter=10500)"
      ]
     },
     "execution_count": 8,
     "metadata": {},
     "output_type": "execute_result"
    }
   ],
   "source": [
    "logisreg.fit(X_train, y_train)"
   ]
  },
  {
   "cell_type": "code",
   "execution_count": 9,
   "id": "a4ee4b0e",
   "metadata": {},
   "outputs": [
    {
     "name": "stdout",
     "output_type": "stream",
     "text": [
      "[5 6 5 7 5 5 5 7 6 5 6 5 5 6 6 6 6 6 6 6 5 5 5 5 6 5 5 5 6 6 5 5 6 5 5 6 7\n",
      " 6 5 5 6 5 5 5 6 5 5 5 5 5 6 6 5 6 6 6 6 5 6 6 5 6 6 6 5 6 7 5 6 6 5 7 6 5\n",
      " 5 5 5 5 5 5 5 5 6 5 5 5 5 5 6 5 5 6 6 6 6 6 6 5 6 6 6 6 5 6 6 5 5 5 6 5 6\n",
      " 6 5 6 6 5 5 5 5 6 6 5 5 7 5 5 5 6 5 7 5 5 6 6 5 5 5 6 5 6 5 5 5 6 6 5 5 5\n",
      " 6 5 5 5 5 6 5 5 5 6 5 5 6 6 5 6 6 5 5 5 6 5 6 7 6 5 6 5 5 5 5 6 5 5 5 5 5\n",
      " 6 6 6 5 6 7 5 6 6 5 5 6 6 5 5 5 6 6 6 6 6 6 7 6 5 5 6 5 6 6 6 5 6 5 6 7 5\n",
      " 6 5 5 6 5 5 6 5 6 6 6 6 5 5 6 5 7 5 5 5 5 5 5 5 6 6 5 5 5 6 5 6 6 6 5 5 6\n",
      " 6 5 5 6 6 5 5 6 5 5 5 5 6 6 6 7 7 7 5 5 6 6 6 6 5 5 6 7 5 6 5 5 5 7 5 5 6\n",
      " 6 6 5 5 6 5 6 5 5 6 6 5 5 5 6 6 5 6 5 6 5 5 5 5 6 5 6 5 5 5 6 5 6 5 5 6 5\n",
      " 5 5 5 6 5 5 6 7 6 6 5 6 5 7 6 6 5 6 5 6 5 5 6 6 6 6 6 6 5 6 5 6 6 5 5 5 5\n",
      " 5 6 6 5 6 5 5 6 5 5 6 5 5 5 6 5 5 6 5 5 5 5 6 6 6 6 5 6 6 6 6 6 6 6 6 6 5\n",
      " 5 5 5 6 5 6 6 6 5 6 5 6 5 5 5 5 5 6 5 6 6 6 5 5 6 5 6 5 6 6 5 4 5 5 6 5 6\n",
      " 6 5 5 5 6 5 6 6 5 5 6 5 6 5 5 6 6 6 6 5 5 7 6 5 6 6 5 5 5 6 6 5 5 6 6 6]\n"
     ]
    }
   ],
   "source": [
    "y_predict_logr = logisreg.predict(X_test)\n",
    "print(y_predict_logr)"
   ]
  },
  {
   "cell_type": "code",
   "execution_count": 10,
   "id": "9e6b472c",
   "metadata": {},
   "outputs": [
    {
     "name": "stdout",
     "output_type": "stream",
     "text": [
      "0.6166666666666667\n"
     ]
    }
   ],
   "source": [
    "score= accuracy_score(y_test, y_predict_logr)\n",
    "print(score)"
   ]
  },
  {
   "cell_type": "code",
   "execution_count": 11,
   "id": "426bacf2",
   "metadata": {},
   "outputs": [
    {
     "name": "stdout",
     "output_type": "stream",
     "text": [
      "0.5897366352201258\n"
     ]
    }
   ],
   "source": [
    "accuracy_list = cross_val_score(logisreg, X, y, cv=10, scoring='accuracy')\n",
    "accuracy_lt = accuracy_list.mean()\n",
    "print(accuracy_lt)"
   ]
  },
  {
   "cell_type": "code",
   "execution_count": 12,
   "id": "ba11842a",
   "metadata": {},
   "outputs": [
    {
     "name": "stdout",
     "output_type": "stream",
     "text": [
      "[[7.86492247e-03 7.37721695e-02 6.72649524e-01 2.39479403e-01\n",
      "  6.06909176e-03 1.64889812e-04]\n",
      " [1.52034681e-02 7.90984802e-03 3.07320717e-01 5.25197136e-01\n",
      "  1.42030102e-01 2.33872897e-03]\n",
      " [2.85731368e-03 7.09133004e-02 6.33631242e-01 2.79308524e-01\n",
      "  1.09919558e-02 2.29766435e-03]\n",
      " ...\n",
      " [8.99377226e-04 1.90427099e-03 7.43617566e-02 4.93332981e-01\n",
      "  4.22874360e-01 6.62725477e-03]\n",
      " [3.57942013e-03 6.55064766e-03 1.45300202e-01 4.91604037e-01\n",
      "  3.31053632e-01 2.19120612e-02]\n",
      " [4.92063957e-03 2.82204486e-02 1.50481336e-01 6.12953074e-01\n",
      "  1.89769073e-01 1.36554284e-02]]\n"
     ]
    }
   ],
   "source": [
    "y_predict_prob = logisreg.predict_proba(X_test)\n",
    "print(y_predict_prob)"
   ]
  },
  {
   "cell_type": "code",
   "execution_count": 13,
   "id": "be4ac92c",
   "metadata": {},
   "outputs": [
    {
     "name": "stderr",
     "output_type": "stream",
     "text": [
      "C:\\Users\\USER\\anaconda3\\lib\\site-packages\\sklearn\\metrics\\_ranking.py:949: UndefinedMetricWarning: No positive samples in y_true, true positive value should be meaningless\n",
      "  warnings.warn(\"No positive samples in y_true, \"\n",
      "C:\\Users\\USER\\anaconda3\\lib\\site-packages\\sklearn\\metrics\\_ranking.py:949: UndefinedMetricWarning: No positive samples in y_true, true positive value should be meaningless\n",
      "  warnings.warn(\"No positive samples in y_true, \"\n"
     ]
    }
   ],
   "source": [
    "fpr1, tpr1, thresholds1 = metrics.roc_curve(y_test, y_predict_prob[:,1], pos_label=5)\n",
    "fpr2, tpr2, thresholds2 = metrics.roc_curve(y_test, y_predict_prob[:,1], pos_label=6)\n",
    "fpr3, tpr3, thresholds3 = metrics.roc_curve(y_test, y_predict_prob[:,1], pos_label=7)\n",
    "fpr4, tpr4, thresholds4 = metrics.roc_curve(y_test, y_predict_prob[:,1], pos_label=8)\n",
    "fpr5, tpr5, thresholds5 = metrics.roc_curve(y_test, y_predict_prob[:,1], pos_label=9)\n",
    "fpr6, tpr6, thresholds6 = metrics.roc_curve(y_test, y_predict_prob[:,1], pos_label=10)\n"
   ]
  },
  {
   "cell_type": "code",
   "execution_count": 14,
   "id": "7bc6b45b",
   "metadata": {},
   "outputs": [],
   "source": [
    "    AUC1 = metrics.auc(fpr1, tpr1)\n",
    "    AUC2 = metrics.auc(fpr2, tpr2)\n",
    "    AUC3 = metrics.auc(fpr3, tpr3)\n",
    "    AUC4 = metrics.auc(fpr4, tpr4)\n",
    "    AUC5 = metrics.auc(fpr5, tpr5)\n",
    "    AUC6 = metrics.auc(fpr6, tpr6)"
   ]
  },
  {
   "cell_type": "code",
   "execution_count": 15,
   "id": "85535c9e",
   "metadata": {},
   "outputs": [
    {
     "data": {
      "image/png": "[encoded data removed]",
      "text/plain": [
       "<Figure size 432x288 with 1 Axes>"
      ]
     },
     "metadata": {
      "needs_background": "light"
     },
     "output_type": "display_data"
    }
   ],
   "source": [
    "%matplotlib inline\n",
    "\n",
    "plt.figure()\n",
    "\n",
    "# Roc Curve:\n",
    "plt.plot(fpr1, tpr1, color='red', lw=2, \n",
    "         label='ROC Curve (area = %0.2f)' % AUC1)\n",
    "plt.plot(fpr2, tpr2, color='green', lw=2, \n",
    "         label='ROC Curve (area = %0.2f)' % AUC2)\n",
    "plt.plot(fpr3, tpr3, color='blue', lw=2, \n",
    "         label='ROC Curve (area = %0.2f)' % AUC3)\n",
    "plt.plot(fpr4, tpr4, color='black', lw=2, \n",
    "         label='ROC Curve (area = %0.2f)' % AUC4)\n",
    "plt.plot(fpr5, tpr5, color='yellow', lw=2, \n",
    "         label='ROC Curve (area = %0.2f)' % AUC5)\n",
    "plt.plot(fpr6, tpr6, color='orange', lw=2, \n",
    "         label='ROC Curve (area = %0.2f)' % AUC6)\n",
    "\n",
    "# Random Guess line:\n",
    "plt.plot([0, 1], [0, 1], color='blue', lw=1, linestyle='--')\n",
    "\n",
    "# Defining The Range of X-Axis and Y-Axis:\n",
    "plt.xlim([-0.005, 1.005])\n",
    "plt.ylim([0.0, 1.01])\n",
    "\n",
    "# Labels, Title, Legend:\n",
    "plt.xlabel('False Positive Rate')\n",
    "plt.ylabel('True Positive Rate')\n",
    "plt.title('Receiver operating characteristic')\n",
    "plt.legend(loc=\"lower right\")\n",
    "\n",
    "plt.show()"
   ]
  },
  {
   "cell_type": "code",
   "execution_count": null,
   "id": "b02a7dcf",
   "metadata": {},
   "outputs": [],
   "source": []
  },
  {
   "cell_type": "code",
   "execution_count": null,
   "id": "941d0abc",
   "metadata": {},
   "outputs": [],
   "source": []
  }
 ],
 "metadata": {
  "kernelspec": {
   "display_name": "Python 3",
   "language": "python",
   "name": "python3"
  },
  "language_info": {
   "codemirror_mode": {
    "name": "ipython",
    "version": 3
   },
   "file_extension": ".py",
   "mimetype": "text/x-python",
   "name": "python",
   "nbconvert_exporter": "python",
   "pygments_lexer": "ipython3",
   "version": "3.8.8"
  }
 },
 "nbformat": 4,
 "nbformat_minor": 5
}
